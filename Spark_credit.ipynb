{
  "cells": [
    {
      "cell_type": "markdown",
      "metadata": {
        "id": "view-in-github",
        "colab_type": "text"
      },
      "source": [
        "<a href=\"https://colab.research.google.com/github/moatazkrimchi/Spark/blob/main/Spark_credit.ipynb\" target=\"_parent\"><img src=\"https://colab.research.google.com/assets/colab-badge.svg\" alt=\"Open In Colab\"/></a>"
      ]
    },
    {
      "cell_type": "code",
      "source": [
        "pip install pyspark"
      ],
      "metadata": {
        "id": "4o_TYjBGRLND",
        "outputId": "29b78a24-391b-4281-c9fb-19083dfd2cb2",
        "colab": {
          "base_uri": "https://localhost:8080/"
        }
      },
      "execution_count": null,
      "outputs": [
        {
          "output_type": "stream",
          "name": "stdout",
          "text": [
            "Requirement already satisfied: pyspark in /usr/local/lib/python3.7/dist-packages (3.2.0)\n",
            "Requirement already satisfied: py4j==0.10.9.2 in /usr/local/lib/python3.7/dist-packages (from pyspark) (0.10.9.2)\n"
          ]
        }
      ]
    },
    {
      "cell_type": "code",
      "source": [
        "from pyspark.sql import SparkSession"
      ],
      "metadata": {
        "id": "uDg1CRXSRGY6"
      },
      "execution_count": null,
      "outputs": []
    },
    {
      "cell_type": "code",
      "source": [
        "spark = SparkSession.builder.appName(\"credit\").getOrCreate()"
      ],
      "metadata": {
        "id": "SaoG-TRaRM-E"
      },
      "execution_count": null,
      "outputs": []
    },
    {
      "cell_type": "code",
      "source": [
        "spark"
      ],
      "metadata": {
        "id": "E_n_UJHaRp16",
        "outputId": "94bb688f-cf18-4797-dbb8-724e90f4d65f",
        "colab": {
          "base_uri": "https://localhost:8080/",
          "height": 219
        }
      },
      "execution_count": null,
      "outputs": [
        {
          "output_type": "execute_result",
          "data": {
            "text/html": [
              "\n",
              "            <div>\n",
              "                <p><b>SparkSession - in-memory</b></p>\n",
              "                \n",
              "        <div>\n",
              "            <p><b>SparkContext</b></p>\n",
              "\n",
              "            <p><a href=\"http://0131843cfedc:4040\">Spark UI</a></p>\n",
              "\n",
              "            <dl>\n",
              "              <dt>Version</dt>\n",
              "                <dd><code>v3.2.0</code></dd>\n",
              "              <dt>Master</dt>\n",
              "                <dd><code>local[*]</code></dd>\n",
              "              <dt>AppName</dt>\n",
              "                <dd><code>credit</code></dd>\n",
              "            </dl>\n",
              "        </div>\n",
              "        \n",
              "            </div>\n",
              "        "
            ],
            "text/plain": [
              "<pyspark.sql.session.SparkSession at 0x7f548fea5110>"
            ]
          },
          "metadata": {},
          "execution_count": 13
        }
      ]
    },
    {
      "cell_type": "code",
      "source": [
        "from google.colab import drive\n",
        "drive.mount('/content/drive')"
      ],
      "metadata": {
        "id": "uP4K-rpC8NjN",
        "colab": {
          "base_uri": "https://localhost:8080/"
        },
        "outputId": "719afad3-157e-47b5-890d-668e15d0557d"
      },
      "execution_count": null,
      "outputs": [
        {
          "output_type": "stream",
          "name": "stdout",
          "text": [
            "Drive already mounted at /content/drive; to attempt to forcibly remount, call drive.mount(\"/content/drive\", force_remount=True).\n"
          ]
        }
      ]
    },
    {
      "cell_type": "code",
      "source": [
        "df = spark.read.csv(\"datasets.csv\", inferSchema=True, header=True)"
      ],
      "metadata": {
        "id": "G_R0fYI5RvQP"
      },
      "execution_count": null,
      "outputs": []
    },
    {
      "cell_type": "code",
      "source": [
        "df"
      ],
      "metadata": {
        "id": "1eVxGimBTDrX",
        "outputId": "db0dd07b-3d4e-4b7f-e998-20a4bbdfcf63",
        "colab": {
          "base_uri": "https://localhost:8080/"
        }
      },
      "execution_count": null,
      "outputs": [
        {
          "output_type": "execute_result",
          "data": {
            "text/plain": [
              "DataFrame[Credit_History: double, Gender_Male: int, Married_Yes: int, Dependents_1: int, Dependents_2: int, Dependents_3+: int, Education_Not Graduate: int, Self_Employed_Yes: int, Property_Area_Semiurban: int, Property_Area_Urban: int, Loan_Status_Y: int, ApplicantIncome: int, CoapplicantIncome: double, LoanAmount: double, Loan_Amount_Term: double]"
            ]
          },
          "metadata": {},
          "execution_count": 16
        }
      ]
    },
    {
      "cell_type": "code",
      "source": [
        "df.printSchema()"
      ],
      "metadata": {
        "id": "vaPld1lsT7NW",
        "outputId": "6e5f2a23-0008-4095-fc42-6299bda478bf",
        "colab": {
          "base_uri": "https://localhost:8080/"
        }
      },
      "execution_count": null,
      "outputs": [
        {
          "output_type": "stream",
          "name": "stdout",
          "text": [
            "root\n",
            " |-- Credit_History: double (nullable = true)\n",
            " |-- Gender_Male: integer (nullable = true)\n",
            " |-- Married_Yes: integer (nullable = true)\n",
            " |-- Dependents_1: integer (nullable = true)\n",
            " |-- Dependents_2: integer (nullable = true)\n",
            " |-- Dependents_3+: integer (nullable = true)\n",
            " |-- Education_Not Graduate: integer (nullable = true)\n",
            " |-- Self_Employed_Yes: integer (nullable = true)\n",
            " |-- Property_Area_Semiurban: integer (nullable = true)\n",
            " |-- Property_Area_Urban: integer (nullable = true)\n",
            " |-- Loan_Status_Y: integer (nullable = true)\n",
            " |-- ApplicantIncome: integer (nullable = true)\n",
            " |-- CoapplicantIncome: double (nullable = true)\n",
            " |-- LoanAmount: double (nullable = true)\n",
            " |-- Loan_Amount_Term: double (nullable = true)\n",
            "\n"
          ]
        }
      ]
    },
    {
      "cell_type": "code",
      "source": [
        "df.describe().show()"
      ],
      "metadata": {
        "id": "AVWUjUeAT_24",
        "outputId": "c200c636-cd61-4b56-8bac-450e299dd3a9",
        "colab": {
          "base_uri": "https://localhost:8080/"
        }
      },
      "execution_count": null,
      "outputs": [
        {
          "output_type": "stream",
          "name": "stdout",
          "text": [
            "+-------+------------------+------------------+------------------+-------------------+-------------------+-------------------+----------------------+-------------------+-----------------------+-------------------+-------------------+-----------------+------------------+------------------+-----------------+\n",
            "|summary|    Credit_History|       Gender_Male|       Married_Yes|       Dependents_1|       Dependents_2|      Dependents_3+|Education_Not Graduate|  Self_Employed_Yes|Property_Area_Semiurban|Property_Area_Urban|      Loan_Status_Y|  ApplicantIncome| CoapplicantIncome|        LoanAmount| Loan_Amount_Term|\n",
            "+-------+------------------+------------------+------------------+-------------------+-------------------+-------------------+----------------------+-------------------+-----------------------+-------------------+-------------------+-----------------+------------------+------------------+-----------------+\n",
            "|  count|               614|               614|               614|                614|                614|                614|                   614|                614|                    614|                614|                614|              614|               614|               614|              614|\n",
            "|   mean|0.8550488599348535|0.8175895765472313|0.6530944625407166|0.16612377850162866|0.16449511400651465|0.08306188925081433|    0.2182410423452769|0.13355048859934854|     0.3794788273615635| 0.3289902280130293| 0.6872964169381107|5403.459283387622| 1621.245798027101|145.75244299674267|342.4104234527687|\n",
            "| stddev|0.3523386063582998|0.3864972846176106|0.4763734681016683|0.37249516806665817| 0.3710265145882094| 0.2762007557939618|    0.4133886943339804|0.34044606554913354|     0.4856529437464421|0.47022949855074897|0.46397268871800085|6109.041673387181|2926.2483692241894| 84.10723338042617|64.42862906767304|\n",
            "|    min|               0.0|                 0|                 0|                  0|                  0|                  0|                     0|                  0|                      0|                  0|                  0|              150|               0.0|               9.0|             12.0|\n",
            "|    max|               1.0|                 1|                 1|                  1|                  1|                  1|                     1|                  1|                      1|                  1|                  1|            81000|           41667.0|             700.0|            480.0|\n",
            "+-------+------------------+------------------+------------------+-------------------+-------------------+-------------------+----------------------+-------------------+-----------------------+-------------------+-------------------+-----------------+------------------+------------------+-----------------+\n",
            "\n"
          ]
        }
      ]
    },
    {
      "cell_type": "code",
      "source": [
        "df.columns"
      ],
      "metadata": {
        "id": "uRSKDNQ1VurB",
        "outputId": "1d4f0650-9109-4506-cb28-bc6916f6e392",
        "colab": {
          "base_uri": "https://localhost:8080/"
        }
      },
      "execution_count": null,
      "outputs": [
        {
          "output_type": "execute_result",
          "data": {
            "text/plain": [
              "['Credit_History',\n",
              " 'Gender_Male',\n",
              " 'Married_Yes',\n",
              " 'Dependents_1',\n",
              " 'Dependents_2',\n",
              " 'Dependents_3+',\n",
              " 'Education_Not Graduate',\n",
              " 'Self_Employed_Yes',\n",
              " 'Property_Area_Semiurban',\n",
              " 'Property_Area_Urban',\n",
              " 'Loan_Status_Y',\n",
              " 'ApplicantIncome',\n",
              " 'CoapplicantIncome',\n",
              " 'LoanAmount',\n",
              " 'Loan_Amount_Term']"
            ]
          },
          "metadata": {},
          "execution_count": 19
        }
      ]
    },
    {
      "cell_type": "code",
      "source": [
        "from pyspark.ml.feature import VectorAssembler"
      ],
      "metadata": {
        "id": "GoQearz5V1Bx"
      },
      "execution_count": null,
      "outputs": []
    },
    {
      "cell_type": "code",
      "source": [
        "assembler = VectorAssembler(inputCols=['Credit_History',\n",
        " 'Education_Not Graduate',\n",
        " 'Self_Employed_Yes',\n",
        " 'ApplicantIncome',\n",
        " 'LoanAmount',\n",
        " 'Loan_Amount_Term',\n",
        " ],\n",
        " outputCol='features')"
      ],
      "metadata": {
        "id": "Ibe7FOKSV64x"
      },
      "execution_count": null,
      "outputs": []
    },
    {
      "cell_type": "code",
      "source": [
        "output = assembler.transform(df)"
      ],
      "metadata": {
        "id": "mXVrChowXDeM"
      },
      "execution_count": null,
      "outputs": []
    },
    {
      "cell_type": "code",
      "source": [
        "df_final = output.select('features', 'Loan_Status_Y')"
      ],
      "metadata": {
        "id": "So0S9eU_XKyI"
      },
      "execution_count": null,
      "outputs": []
    },
    {
      "cell_type": "code",
      "source": [
        "df_final.show(10)"
      ],
      "metadata": {
        "id": "Mfu8mOymXUJ4",
        "colab": {
          "base_uri": "https://localhost:8080/"
        },
        "outputId": "d9c3c89b-5965-49c5-b4d5-97f9ebf47090"
      },
      "execution_count": null,
      "outputs": [
        {
          "output_type": "stream",
          "name": "stdout",
          "text": [
            "+--------------------+-------------+\n",
            "|            features|Loan_Status_Y|\n",
            "+--------------------+-------------+\n",
            "|[1.0,0.0,0.0,5849...|            1|\n",
            "|[1.0,0.0,0.0,4583...|            0|\n",
            "|[1.0,0.0,1.0,3000...|            1|\n",
            "|[1.0,1.0,0.0,2583...|            1|\n",
            "|[1.0,0.0,0.0,6000...|            1|\n",
            "|[1.0,0.0,1.0,5417...|            1|\n",
            "|[1.0,1.0,0.0,2333...|            1|\n",
            "|[0.0,0.0,0.0,3036...|            0|\n",
            "|[1.0,0.0,0.0,4006...|            1|\n",
            "|[1.0,0.0,0.0,1284...|            0|\n",
            "+--------------------+-------------+\n",
            "only showing top 10 rows\n",
            "\n"
          ]
        }
      ]
    },
    {
      "cell_type": "code",
      "source": [
        "train, test = df_final.randomSplit([0.7, 0.3], seed=42)"
      ],
      "metadata": {
        "id": "0PP9QSSgYoUw"
      },
      "execution_count": null,
      "outputs": []
    },
    {
      "cell_type": "code",
      "source": [
        "from pyspark.ml.classification import LogisticRegression"
      ],
      "metadata": {
        "id": "LT_NhwaJ9rxE"
      },
      "execution_count": null,
      "outputs": []
    },
    {
      "cell_type": "code",
      "source": [
        "LR = LogisticRegression(labelCol=\"Loan_Status_Y\")"
      ],
      "metadata": {
        "id": "CqH28lLp9xyN"
      },
      "execution_count": null,
      "outputs": []
    },
    {
      "cell_type": "code",
      "source": [
        "LRm = LR.fit(train)"
      ],
      "metadata": {
        "id": "oMCNS7rb94Re"
      },
      "execution_count": null,
      "outputs": []
    },
    {
      "cell_type": "code",
      "source": [
        "LRm.summary"
      ],
      "metadata": {
        "id": "miGO2cJs-MJ7",
        "outputId": "1189cedf-3e72-4dbc-b201-44076624a667",
        "colab": {
          "base_uri": "https://localhost:8080/"
        }
      },
      "execution_count": null,
      "outputs": [
        {
          "output_type": "execute_result",
          "data": {
            "text/plain": [
              "<pyspark.ml.classification.BinaryLogisticRegressionTrainingSummary at 0x7f548d31c150>"
            ]
          },
          "metadata": {},
          "execution_count": 29
        }
      ]
    },
    {
      "cell_type": "code",
      "source": [
        "LRm_summary = LRm.summary"
      ],
      "metadata": {
        "id": "SdEo1UmH9-8O"
      },
      "execution_count": null,
      "outputs": []
    },
    {
      "cell_type": "code",
      "source": [
        "LRm_summary.predictions.show()"
      ],
      "metadata": {
        "id": "_5l8xNgl-GwV",
        "outputId": "a9dbb8d1-87bd-451d-ddbc-16b35461917f",
        "colab": {
          "base_uri": "https://localhost:8080/"
        }
      },
      "execution_count": null,
      "outputs": [
        {
          "output_type": "stream",
          "name": "stderr",
          "text": [
            "/usr/local/lib/python3.7/dist-packages/pyspark/sql/context.py:127: FutureWarning: Deprecated in 3.0.0. Use SparkSession.builder.getOrCreate() instead.\n",
            "  FutureWarning\n"
          ]
        },
        {
          "output_type": "stream",
          "name": "stdout",
          "text": [
            "+--------------------+-------------+--------------------+--------------------+----------+\n",
            "|            features|Loan_Status_Y|       rawPrediction|         probability|prediction|\n",
            "+--------------------+-------------+--------------------+--------------------+----------+\n",
            "|[0.0,0.0,0.0,1500...|          0.0|[4.10213047304043...|[0.98373163126029...|       0.0|\n",
            "|[0.0,0.0,0.0,1828...|          0.0|[4.07973337713199...|[0.98336928406759...|       0.0|\n",
            "|[0.0,0.0,0.0,2138...|          0.0|[4.06456183230965...|[0.98311933840009...|       0.0|\n",
            "|[0.0,0.0,0.0,2221...|          0.0|[3.93395511492413...|[0.98080935372697...|       0.0|\n",
            "|[0.0,0.0,0.0,2237...|          0.0|[4.54915969974463...|[0.98953459529814...|       0.0|\n",
            "|[0.0,0.0,0.0,2483...|          1.0|[3.11288266211774...|[0.95742102547792...|       0.0|\n",
            "|[0.0,0.0,0.0,2873...|          0.0|[4.14415335912995...|[0.98439065971904...|       0.0|\n",
            "|[0.0,0.0,0.0,2987...|          0.0|[3.99602038120496...|[0.98194336420020...|       0.0|\n",
            "|[0.0,0.0,0.0,3036...|          0.0|[4.22284023619324...|[0.98555476703240...|       0.0|\n",
            "|[0.0,0.0,0.0,3166...|          0.0|[4.04142119362399...|[0.98273097877996...|       0.0|\n",
            "|[0.0,0.0,0.0,3167...|          0.0|[3.98667853903677...|[0.98177697990044...|       0.0|\n",
            "|[0.0,0.0,0.0,3180...|          0.0|[3.93306714789941...|[0.98079263294947...|       0.0|\n",
            "|[0.0,0.0,0.0,3400...|          0.0|[4.09451143207118...|[0.98360924788578...|       0.0|\n",
            "|[0.0,0.0,0.0,3510...|          0.0|[3.93673056554912...|[0.98086152461910...|       0.0|\n",
            "|[0.0,0.0,0.0,3593...|          0.0|[3.20747820938579...|[0.96111472765145...|       0.0|\n",
            "|[0.0,0.0,0.0,3597...|          0.0|[4.07387773237749...|[0.98327324851312...|       0.0|\n",
            "|[0.0,0.0,0.0,3800...|          0.0|[4.38299723997210...|[0.98766615023359...|       0.0|\n",
            "|[0.0,0.0,0.0,4300...|          0.0|[4.10242346643306...|[0.98373631957675...|       0.0|\n",
            "|[0.0,0.0,0.0,4400...|          0.0|[4.06917886323561...|[0.98319579061433...|       0.0|\n",
            "|[0.0,0.0,0.0,4945...|          0.0|[4.05151735910847...|[0.98290148635010...|       0.0|\n",
            "+--------------------+-------------+--------------------+--------------------+----------+\n",
            "only showing top 20 rows\n",
            "\n"
          ]
        }
      ]
    },
    {
      "cell_type": "code",
      "source": [
        "LRm_summary.predictions.describe().show() "
      ],
      "metadata": {
        "id": "wuk9lUdB-mk7",
        "outputId": "40ca5e6d-936c-40e2-d527-be1de53fbdca",
        "colab": {
          "base_uri": "https://localhost:8080/"
        }
      },
      "execution_count": null,
      "outputs": [
        {
          "output_type": "stream",
          "name": "stderr",
          "text": [
            "/usr/local/lib/python3.7/dist-packages/pyspark/sql/context.py:127: FutureWarning: Deprecated in 3.0.0. Use SparkSession.builder.getOrCreate() instead.\n",
            "  FutureWarning\n"
          ]
        },
        {
          "output_type": "stream",
          "name": "stdout",
          "text": [
            "+-------+-------------------+-------------------+\n",
            "|summary|      Loan_Status_Y|         prediction|\n",
            "+-------+-------------------+-------------------+\n",
            "|  count|                456|                456|\n",
            "|   mean| 0.6951754385964912| 0.8771929824561403|\n",
            "| stddev|0.46083866683033564|0.32857603872676244|\n",
            "|    min|                0.0|                0.0|\n",
            "|    max|                1.0|                1.0|\n",
            "+-------+-------------------+-------------------+\n",
            "\n"
          ]
        }
      ]
    },
    {
      "cell_type": "code",
      "source": [
        "from pyspark.ml.evaluation import BinaryClassificationEvaluator"
      ],
      "metadata": {
        "id": "147uag8e_kVD"
      },
      "execution_count": null,
      "outputs": []
    },
    {
      "cell_type": "code",
      "source": [
        ""
      ],
      "metadata": {
        "id": "xhRVfdieE-u7"
      },
      "execution_count": null,
      "outputs": []
    },
    {
      "cell_type": "code",
      "source": [
        "pred_labels = LRm.evaluate(test)"
      ],
      "metadata": {
        "id": "PB42HHrN_p1n"
      },
      "execution_count": null,
      "outputs": []
    },
    {
      "cell_type": "code",
      "source": [
        "pred_labels.predictions.show()"
      ],
      "metadata": {
        "id": "0cjvPi07_xPW",
        "outputId": "ba2af0c8-a848-4a9a-a01b-65529faed60c",
        "colab": {
          "base_uri": "https://localhost:8080/"
        }
      },
      "execution_count": null,
      "outputs": [
        {
          "output_type": "stream",
          "name": "stderr",
          "text": [
            "/usr/local/lib/python3.7/dist-packages/pyspark/sql/context.py:127: FutureWarning: Deprecated in 3.0.0. Use SparkSession.builder.getOrCreate() instead.\n",
            "  FutureWarning\n"
          ]
        },
        {
          "output_type": "stream",
          "name": "stdout",
          "text": [
            "+--------------------+-------------+--------------------+--------------------+----------+\n",
            "|            features|Loan_Status_Y|       rawPrediction|         probability|prediction|\n",
            "+--------------------+-------------+--------------------+--------------------+----------+\n",
            "|[0.0,0.0,0.0,2137...|            1|[4.18875248459268...|[0.98506135552231...|       0.0|\n",
            "|[0.0,0.0,0.0,2400...|            0|[4.07083653338457...|[0.98322315642958...|       0.0|\n",
            "|[0.0,0.0,0.0,2645...|            0|[4.11370286483207...|[0.98391579943379...|       0.0|\n",
            "|[0.0,0.0,0.0,2787...|            0|[4.19319616765902...|[0.98512660570626...|       0.0|\n",
            "|[0.0,0.0,0.0,3062...|            0|[3.15925880630757...|[0.95927199841610...|       0.0|\n",
            "|[0.0,0.0,0.0,3087...|            0|[4.14900415459179...|[0.98446502066219...|       0.0|\n",
            "|[0.0,0.0,0.0,3089...|            0|[4.09991988461592...|[0.98369621579015...|       0.0|\n",
            "|[0.0,0.0,0.0,3340...|            0|[4.18502894722159...|[0.98500646279671...|       0.0|\n",
            "|[0.0,0.0,0.0,3430...|            0|[4.10969521777333...|[0.98385225326496...|       0.0|\n",
            "|[0.0,0.0,0.0,3547...|            0|[3.94837837816190...|[0.98107895931204...|       0.0|\n",
            "|[0.0,0.0,0.0,3588...|            0|[4.04481886290576...|[0.98278854547904...|       0.0|\n",
            "|[0.0,0.0,0.0,3948...|            0|[4.15841383680049...|[0.98460827488517...|       0.0|\n",
            "|[0.0,0.0,0.0,4166...|            0|[3.98341697977363...|[0.98171853574995...|       0.0|\n",
            "|[0.0,0.0,0.0,4166...|            0|[4.04222594080025...|[0.98274463068087...|       0.0|\n",
            "|[0.0,0.0,0.0,4333...|            1|[4.17956817398278...|[0.98492560014081...|       0.0|\n",
            "|[0.0,0.0,0.0,4917...|            1|[4.05912692246299...|[0.98302890501106...|       0.0|\n",
            "|[0.0,0.0,0.0,4923...|            1|[4.17651443715518...|[0.98488019361013...|       0.0|\n",
            "|[0.0,0.0,0.0,5116...|            0|[4.16583583587329...|[0.98472035032134...|       0.0|\n",
            "|[0.0,0.0,0.0,5516...|            0|[5.22863963062467...|[0.99466777204668...|       0.0|\n",
            "|[0.0,0.0,0.0,6277...|            0|[3.96769527994083...|[0.98143422709944...|       0.0|\n",
            "+--------------------+-------------+--------------------+--------------------+----------+\n",
            "only showing top 20 rows\n",
            "\n"
          ]
        }
      ]
    },
    {
      "cell_type": "code",
      "source": [
        "eval = BinaryClassificationEvaluator(rawPredictionCol=\"prediction\", labelCol=\"Loan_Status_Y\")"
      ],
      "metadata": {
        "id": "oyURqBnwAMih"
      },
      "execution_count": null,
      "outputs": []
    },
    {
      "cell_type": "code",
      "source": [
        "ac = eval.evaluate(pred_labels.predictions)"
      ],
      "metadata": {
        "id": "dD8lgLEkAUtn",
        "outputId": "d529d3ef-0ab0-46de-93e4-036d175bd869",
        "colab": {
          "base_uri": "https://localhost:8080/"
        }
      },
      "execution_count": null,
      "outputs": [
        {
          "output_type": "stream",
          "name": "stderr",
          "text": [
            "/usr/local/lib/python3.7/dist-packages/pyspark/sql/context.py:127: FutureWarning: Deprecated in 3.0.0. Use SparkSession.builder.getOrCreate() instead.\n",
            "  FutureWarning\n"
          ]
        }
      ]
    },
    {
      "cell_type": "code",
      "source": [
        "ac"
      ],
      "metadata": {
        "id": "4bzr8mlZAcY9",
        "outputId": "13c1bf3d-a0ab-4a9f-8da6-802c764fc88a",
        "colab": {
          "base_uri": "https://localhost:8080/"
        }
      },
      "execution_count": null,
      "outputs": [
        {
          "output_type": "execute_result",
          "data": {
            "text/plain": [
              "0.7260557053009884"
            ]
          },
          "metadata": {},
          "execution_count": 38
        }
      ]
    },
    {
      "cell_type": "code",
      "source": [
        "df.columns"
      ],
      "metadata": {
        "colab": {
          "base_uri": "https://localhost:8080/"
        },
        "id": "5OiGjID69GWt",
        "outputId": "b904f10d-f192-4929-e1d0-41fb09abf125"
      },
      "execution_count": null,
      "outputs": [
        {
          "output_type": "execute_result",
          "data": {
            "text/plain": [
              "['Credit_History',\n",
              " 'Gender_Male',\n",
              " 'Married_Yes',\n",
              " 'Dependents_1',\n",
              " 'Dependents_2',\n",
              " 'Dependents_3+',\n",
              " 'Education_Not Graduate',\n",
              " 'Self_Employed_Yes',\n",
              " 'Property_Area_Semiurban',\n",
              " 'Property_Area_Urban',\n",
              " 'Loan_Status_Y',\n",
              " 'ApplicantIncome',\n",
              " 'CoapplicantIncome',\n",
              " 'LoanAmount',\n",
              " 'Loan_Amount_Term']"
            ]
          },
          "metadata": {},
          "execution_count": 39
        }
      ]
    },
    {
      "cell_type": "code",
      "source": [
        "df.createOrReplaceTempView(\"Credit\")\n",
        "\n",
        "sqlDF = spark.sql(\"SELECT * FROM Credit WHERE Credit_History = '1'\")\n",
        "sqlDF.show()\n"
      ],
      "metadata": {
        "colab": {
          "base_uri": "https://localhost:8080/"
        },
        "id": "XvMcylxq7y-p",
        "outputId": "d597e0b2-e056-46d2-dd28-49fd9602f437"
      },
      "execution_count": null,
      "outputs": [
        {
          "output_type": "stream",
          "name": "stdout",
          "text": [
            "+--------------+-----------+-----------+------------+------------+-------------+----------------------+-----------------+-----------------------+-------------------+-------------+---------------+-----------------+----------+----------------+\n",
            "|Credit_History|Gender_Male|Married_Yes|Dependents_1|Dependents_2|Dependents_3+|Education_Not Graduate|Self_Employed_Yes|Property_Area_Semiurban|Property_Area_Urban|Loan_Status_Y|ApplicantIncome|CoapplicantIncome|LoanAmount|Loan_Amount_Term|\n",
            "+--------------+-----------+-----------+------------+------------+-------------+----------------------+-----------------+-----------------------+-------------------+-------------+---------------+-----------------+----------+----------------+\n",
            "|           1.0|          1|          0|           0|           0|            0|                     0|                0|                      0|                  1|            1|           5849|              0.0|     128.0|           360.0|\n",
            "|           1.0|          1|          1|           1|           0|            0|                     0|                0|                      0|                  0|            0|           4583|           1508.0|     128.0|           360.0|\n",
            "|           1.0|          1|          1|           0|           0|            0|                     0|                1|                      0|                  1|            1|           3000|              0.0|      66.0|           360.0|\n",
            "|           1.0|          1|          1|           0|           0|            0|                     1|                0|                      0|                  1|            1|           2583|           2358.0|     120.0|           360.0|\n",
            "|           1.0|          1|          0|           0|           0|            0|                     0|                0|                      0|                  1|            1|           6000|              0.0|     141.0|           360.0|\n",
            "|           1.0|          1|          1|           0|           1|            0|                     0|                1|                      0|                  1|            1|           5417|           4196.0|     267.0|           360.0|\n",
            "|           1.0|          1|          1|           0|           0|            0|                     1|                0|                      0|                  1|            1|           2333|           1516.0|      95.0|           360.0|\n",
            "|           1.0|          1|          1|           0|           1|            0|                     0|                0|                      0|                  1|            1|           4006|           1526.0|     168.0|           360.0|\n",
            "|           1.0|          1|          1|           1|           0|            0|                     0|                0|                      1|                  0|            0|          12841|          10968.0|     349.0|           360.0|\n",
            "|           1.0|          1|          1|           0|           1|            0|                     0|                0|                      0|                  1|            1|           3200|            700.0|      70.0|           360.0|\n",
            "|           1.0|          1|          1|           0|           1|            0|                     0|                0|                      0|                  1|            1|           2500|           1840.0|     109.0|           360.0|\n",
            "|           1.0|          1|          1|           0|           1|            0|                     0|                0|                      0|                  1|            1|           3073|           8106.0|     200.0|           360.0|\n",
            "|           1.0|          1|          0|           0|           0|            0|                     0|                0|                      0|                  0|            0|           1853|           2840.0|     114.0|           360.0|\n",
            "|           1.0|          1|          1|           0|           1|            0|                     0|                0|                      0|                  1|            1|           1299|           1086.0|      17.0|           120.0|\n",
            "|           1.0|          1|          0|           0|           0|            0|                     0|                0|                      0|                  1|            1|           4950|              0.0|     125.0|           360.0|\n",
            "|           1.0|          1|          0|           1|           0|            0|                     1|                0|                      0|                  1|            1|           3596|              0.0|     100.0|           240.0|\n",
            "|           1.0|          1|          1|           0|           0|            0|                     1|                0|                      0|                  0|            0|           4887|              0.0|     133.0|           360.0|\n",
            "|           1.0|          1|          1|           0|           0|            0|                     0|                0|                      0|                  1|            1|           2600|           3500.0|     115.0|           360.0|\n",
            "|           1.0|          1|          1|           1|           0|            0|                     0|                0|                      0|                  1|            1|           5955|           5625.0|     315.0|           360.0|\n",
            "|           1.0|          1|          1|           1|           0|            0|                     0|                0|                      1|                  0|            0|           3717|           2925.0|     151.0|           360.0|\n",
            "+--------------+-----------+-----------+------------+------------+-------------+----------------------+-----------------+-----------------------+-------------------+-------------+---------------+-----------------+----------+----------------+\n",
            "only showing top 20 rows\n",
            "\n"
          ]
        }
      ]
    },
    {
      "cell_type": "code",
      "source": [
        "sqlDF1 = spark.sql(\"SELECT ApplicantIncome, Credit_History FROM Credit WHERE ApplicantIncome > '4000'\")\n",
        "sqlDF1.show()\n"
      ],
      "metadata": {
        "colab": {
          "base_uri": "https://localhost:8080/"
        },
        "id": "DFs6Cndz9TdT",
        "outputId": "f3a6df17-331c-486d-f2d0-c3d6ace55f43"
      },
      "execution_count": null,
      "outputs": [
        {
          "output_type": "stream",
          "name": "stdout",
          "text": [
            "+---------------+--------------+\n",
            "|ApplicantIncome|Credit_History|\n",
            "+---------------+--------------+\n",
            "|           5849|           1.0|\n",
            "|           4583|           1.0|\n",
            "|           6000|           1.0|\n",
            "|           5417|           1.0|\n",
            "|           4006|           1.0|\n",
            "|          12841|           1.0|\n",
            "|           4950|           1.0|\n",
            "|           4887|           1.0|\n",
            "|           7660|           0.0|\n",
            "|           5955|           1.0|\n",
            "|           9560|           1.0|\n",
            "|           4226|           1.0|\n",
            "|           4166|           1.0|\n",
            "|           4692|           1.0|\n",
            "|          12500|           1.0|\n",
            "|           4166|           1.0|\n",
            "|           4695|           1.0|\n",
            "|           5649|           1.0|\n",
            "|           5821|           1.0|\n",
            "|           4230|           1.0|\n",
            "+---------------+--------------+\n",
            "only showing top 20 rows\n",
            "\n"
          ]
        }
      ]
    },
    {
      "cell_type": "code",
      "source": [
        "sqlDF2 = spark.sql(\"SELECT ApplicantIncome, Credit_History, Loan_Status_Y FROM Credit WHERE ApplicantIncome > '4000'\")\n",
        "sqlDF2.show()\n"
      ],
      "metadata": {
        "colab": {
          "base_uri": "https://localhost:8080/"
        },
        "id": "UH4eOQCb9uXC",
        "outputId": "da860ad9-488a-4ac1-fcb3-66314edd9a9a"
      },
      "execution_count": null,
      "outputs": [
        {
          "output_type": "stream",
          "name": "stdout",
          "text": [
            "+---------------+--------------+-------------+\n",
            "|ApplicantIncome|Credit_History|Loan_Status_Y|\n",
            "+---------------+--------------+-------------+\n",
            "|           5849|           1.0|            1|\n",
            "|           4583|           1.0|            0|\n",
            "|           6000|           1.0|            1|\n",
            "|           5417|           1.0|            1|\n",
            "|           4006|           1.0|            1|\n",
            "|          12841|           1.0|            0|\n",
            "|           4950|           1.0|            1|\n",
            "|           4887|           1.0|            0|\n",
            "|           7660|           0.0|            0|\n",
            "|           5955|           1.0|            1|\n",
            "|           9560|           1.0|            1|\n",
            "|           4226|           1.0|            1|\n",
            "|           4166|           1.0|            0|\n",
            "|           4692|           1.0|            0|\n",
            "|          12500|           1.0|            0|\n",
            "|           4166|           1.0|            1|\n",
            "|           4695|           1.0|            1|\n",
            "|           5649|           1.0|            1|\n",
            "|           5821|           1.0|            1|\n",
            "|           4230|           1.0|            0|\n",
            "+---------------+--------------+-------------+\n",
            "only showing top 20 rows\n",
            "\n"
          ]
        }
      ]
    },
    {
      "cell_type": "code",
      "source": [
        "sqlDF3 = spark.sql(\"SELECT ApplicantIncome, Credit_History, Loan_Status_Y FROM Credit WHERE ApplicantIncome > '4000'\")\n",
        "sqlDF.show()"
      ],
      "metadata": {
        "id": "3aUnDVfD96r0",
        "colab": {
          "base_uri": "https://localhost:8080/"
        },
        "outputId": "e74f6a9d-4dda-40bc-c8e5-9cc04df9307a"
      },
      "execution_count": null,
      "outputs": [
        {
          "output_type": "stream",
          "name": "stdout",
          "text": [
            "+--------------+-----------+-----------+------------+------------+-------------+----------------------+-----------------+-----------------------+-------------------+-------------+---------------+-----------------+----------+----------------+\n",
            "|Credit_History|Gender_Male|Married_Yes|Dependents_1|Dependents_2|Dependents_3+|Education_Not Graduate|Self_Employed_Yes|Property_Area_Semiurban|Property_Area_Urban|Loan_Status_Y|ApplicantIncome|CoapplicantIncome|LoanAmount|Loan_Amount_Term|\n",
            "+--------------+-----------+-----------+------------+------------+-------------+----------------------+-----------------+-----------------------+-------------------+-------------+---------------+-----------------+----------+----------------+\n",
            "|           1.0|          1|          0|           0|           0|            0|                     0|                0|                      0|                  1|            1|           5849|              0.0|     128.0|           360.0|\n",
            "|           1.0|          1|          1|           1|           0|            0|                     0|                0|                      0|                  0|            0|           4583|           1508.0|     128.0|           360.0|\n",
            "|           1.0|          1|          1|           0|           0|            0|                     0|                1|                      0|                  1|            1|           3000|              0.0|      66.0|           360.0|\n",
            "|           1.0|          1|          1|           0|           0|            0|                     1|                0|                      0|                  1|            1|           2583|           2358.0|     120.0|           360.0|\n",
            "|           1.0|          1|          0|           0|           0|            0|                     0|                0|                      0|                  1|            1|           6000|              0.0|     141.0|           360.0|\n",
            "|           1.0|          1|          1|           0|           1|            0|                     0|                1|                      0|                  1|            1|           5417|           4196.0|     267.0|           360.0|\n",
            "|           1.0|          1|          1|           0|           0|            0|                     1|                0|                      0|                  1|            1|           2333|           1516.0|      95.0|           360.0|\n",
            "|           1.0|          1|          1|           0|           1|            0|                     0|                0|                      0|                  1|            1|           4006|           1526.0|     168.0|           360.0|\n",
            "|           1.0|          1|          1|           1|           0|            0|                     0|                0|                      1|                  0|            0|          12841|          10968.0|     349.0|           360.0|\n",
            "|           1.0|          1|          1|           0|           1|            0|                     0|                0|                      0|                  1|            1|           3200|            700.0|      70.0|           360.0|\n",
            "|           1.0|          1|          1|           0|           1|            0|                     0|                0|                      0|                  1|            1|           2500|           1840.0|     109.0|           360.0|\n",
            "|           1.0|          1|          1|           0|           1|            0|                     0|                0|                      0|                  1|            1|           3073|           8106.0|     200.0|           360.0|\n",
            "|           1.0|          1|          0|           0|           0|            0|                     0|                0|                      0|                  0|            0|           1853|           2840.0|     114.0|           360.0|\n",
            "|           1.0|          1|          1|           0|           1|            0|                     0|                0|                      0|                  1|            1|           1299|           1086.0|      17.0|           120.0|\n",
            "|           1.0|          1|          0|           0|           0|            0|                     0|                0|                      0|                  1|            1|           4950|              0.0|     125.0|           360.0|\n",
            "|           1.0|          1|          0|           1|           0|            0|                     1|                0|                      0|                  1|            1|           3596|              0.0|     100.0|           240.0|\n",
            "|           1.0|          1|          1|           0|           0|            0|                     1|                0|                      0|                  0|            0|           4887|              0.0|     133.0|           360.0|\n",
            "|           1.0|          1|          1|           0|           0|            0|                     0|                0|                      0|                  1|            1|           2600|           3500.0|     115.0|           360.0|\n",
            "|           1.0|          1|          1|           1|           0|            0|                     0|                0|                      0|                  1|            1|           5955|           5625.0|     315.0|           360.0|\n",
            "|           1.0|          1|          1|           1|           0|            0|                     0|                0|                      1|                  0|            0|           3717|           2925.0|     151.0|           360.0|\n",
            "+--------------+-----------+-----------+------------+------------+-------------+----------------------+-----------------+-----------------------+-------------------+-------------+---------------+-----------------+----------+----------------+\n",
            "only showing top 20 rows\n",
            "\n"
          ]
        }
      ]
    }
  ],
  "metadata": {
    "colab": {
      "collapsed_sections": [],
      "name": "Spark_credit",
      "provenance": [],
      "include_colab_link": true
    },
    "kernelspec": {
      "display_name": "Python 3",
      "name": "python3"
    }
  },
  "nbformat": 4,
  "nbformat_minor": 0
}