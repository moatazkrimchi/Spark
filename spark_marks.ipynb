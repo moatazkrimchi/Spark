{
  "nbformat": 4,
  "nbformat_minor": 0,
  "metadata": {
    "colab": {
      "name": "spark_marks",
      "provenance": [],
      "include_colab_link": true
    },
    "kernelspec": {
      "name": "python3",
      "display_name": "Python 3"
    },
    "language_info": {
      "name": "python"
    }
  },
  "cells": [
    {
      "cell_type": "markdown",
      "metadata": {
        "id": "view-in-github",
        "colab_type": "text"
      },
      "source": [
        "<a href=\"https://colab.research.google.com/github/moatazkrimchi/Spark/blob/main/spark_marks.ipynb\" target=\"_parent\"><img src=\"https://colab.research.google.com/assets/colab-badge.svg\" alt=\"Open In Colab\"/></a>"
      ]
    },
    {
      "cell_type": "code",
      "execution_count": null,
      "metadata": {
        "colab": {
          "base_uri": "https://localhost:8080/"
        },
        "id": "esBibc0Y8X0U",
        "outputId": "53b6cb90-c5fb-4850-eedd-8b1ddbcaf6aa"
      },
      "outputs": [
        {
          "output_type": "stream",
          "name": "stdout",
          "text": [
            "Collecting pyspark\n",
            "  Downloading pyspark-3.2.0.tar.gz (281.3 MB)\n",
            "\u001b[K     |████████████████████████████████| 281.3 MB 39 kB/s \n",
            "\u001b[?25hCollecting py4j==0.10.9.2\n",
            "  Downloading py4j-0.10.9.2-py2.py3-none-any.whl (198 kB)\n",
            "\u001b[K     |████████████████████████████████| 198 kB 49.3 MB/s \n",
            "\u001b[?25hBuilding wheels for collected packages: pyspark\n",
            "  Building wheel for pyspark (setup.py) ... \u001b[?25l\u001b[?25hdone\n",
            "  Created wheel for pyspark: filename=pyspark-3.2.0-py2.py3-none-any.whl size=281805912 sha256=f453bb5e3b7281fb3fc08b5be08c192475425431a526e6cddd38048424a06688\n",
            "  Stored in directory: /root/.cache/pip/wheels/0b/de/d2/9be5d59d7331c6c2a7c1b6d1a4f463ce107332b1ecd4e80718\n",
            "Successfully built pyspark\n",
            "Installing collected packages: py4j, pyspark\n",
            "Successfully installed py4j-0.10.9.2 pyspark-3.2.0\n"
          ]
        }
      ],
      "source": [
        "pip install pyspark"
      ]
    },
    {
      "cell_type": "code",
      "source": [
        "from pyspark.sql import SparkSession"
      ],
      "metadata": {
        "id": "IPVYbxFY8zuz"
      },
      "execution_count": null,
      "outputs": []
    },
    {
      "cell_type": "code",
      "source": [
        "spark = SparkSession.builder.appName(\"Marks\").getOrCreate()"
      ],
      "metadata": {
        "id": "HuQFxCUn9A2C"
      },
      "execution_count": null,
      "outputs": []
    },
    {
      "cell_type": "code",
      "source": [
        "spark"
      ],
      "metadata": {
        "colab": {
          "base_uri": "https://localhost:8080/",
          "height": 219
        },
        "id": "FEu7t0bu9F0I",
        "outputId": "4ec9bc41-7c40-40e6-d273-0b2d6ff1914d"
      },
      "execution_count": null,
      "outputs": [
        {
          "output_type": "execute_result",
          "data": {
            "text/html": [
              "\n",
              "            <div>\n",
              "                <p><b>SparkSession - in-memory</b></p>\n",
              "                \n",
              "        <div>\n",
              "            <p><b>SparkContext</b></p>\n",
              "\n",
              "            <p><a href=\"http://3e31c647ed7c:4040\">Spark UI</a></p>\n",
              "\n",
              "            <dl>\n",
              "              <dt>Version</dt>\n",
              "                <dd><code>v3.2.0</code></dd>\n",
              "              <dt>Master</dt>\n",
              "                <dd><code>local[*]</code></dd>\n",
              "              <dt>AppName</dt>\n",
              "                <dd><code>Shares</code></dd>\n",
              "            </dl>\n",
              "        </div>\n",
              "        \n",
              "            </div>\n",
              "        "
            ],
            "text/plain": [
              "<pyspark.sql.session.SparkSession at 0x7fca4b5de0d0>"
            ]
          },
          "metadata": {},
          "execution_count": 4
        }
      ]
    },
    {
      "cell_type": "code",
      "source": [
        "df = spark.read.csv(\"/content/Student_Marks.csv\", inferSchema=True, header=True)"
      ],
      "metadata": {
        "id": "baDkdXlb9IRp",
        "colab": {
          "base_uri": "https://localhost:8080/",
          "height": 183
        },
        "outputId": "d8739393-346d-4201-e156-6a304563e7ec"
      },
      "execution_count": null,
      "outputs": [
        {
          "output_type": "error",
          "ename": "NameError",
          "evalue": "ignored",
          "traceback": [
            "\u001b[0;31m---------------------------------------------------------------------------\u001b[0m",
            "\u001b[0;31mNameError\u001b[0m                                 Traceback (most recent call last)",
            "\u001b[0;32m<ipython-input-2-49fc5ed62952>\u001b[0m in \u001b[0;36m<module>\u001b[0;34m()\u001b[0m\n\u001b[0;32m----> 1\u001b[0;31m \u001b[0mdf\u001b[0m \u001b[0;34m=\u001b[0m \u001b[0mspark\u001b[0m\u001b[0;34m.\u001b[0m\u001b[0mread\u001b[0m\u001b[0;34m.\u001b[0m\u001b[0mcsv\u001b[0m\u001b[0;34m(\u001b[0m\u001b[0;34m\"/content/Student_Marks.csv\"\u001b[0m\u001b[0;34m,\u001b[0m \u001b[0minferSchema\u001b[0m\u001b[0;34m=\u001b[0m\u001b[0;32mTrue\u001b[0m\u001b[0;34m,\u001b[0m \u001b[0mheader\u001b[0m\u001b[0;34m=\u001b[0m\u001b[0;32mTrue\u001b[0m\u001b[0;34m)\u001b[0m\u001b[0;34m\u001b[0m\u001b[0;34m\u001b[0m\u001b[0m\n\u001b[0m",
            "\u001b[0;31mNameError\u001b[0m: name 'spark' is not defined"
          ]
        }
      ]
    },
    {
      "cell_type": "code",
      "source": [
        "df"
      ],
      "metadata": {
        "colab": {
          "base_uri": "https://localhost:8080/"
        },
        "id": "M_w8-7PU9OKo",
        "outputId": "563287b7-024a-4f2c-8d1a-bb35c12feeab"
      },
      "execution_count": null,
      "outputs": [
        {
          "output_type": "execute_result",
          "data": {
            "text/plain": [
              "DataFrame[number_courses: int, time_study: double, Marks: double]"
            ]
          },
          "metadata": {},
          "execution_count": 18
        }
      ]
    },
    {
      "cell_type": "code",
      "source": [
        "df.printSchema()"
      ],
      "metadata": {
        "colab": {
          "base_uri": "https://localhost:8080/"
        },
        "id": "uDelYU8A9Psc",
        "outputId": "94ee208e-1821-4b25-dcec-0d9a075d8e37"
      },
      "execution_count": null,
      "outputs": [
        {
          "output_type": "stream",
          "name": "stdout",
          "text": [
            "root\n",
            " |-- number_courses: integer (nullable = true)\n",
            " |-- time_study: double (nullable = true)\n",
            " |-- Marks: double (nullable = true)\n",
            "\n"
          ]
        }
      ]
    },
    {
      "cell_type": "code",
      "source": [
        "df.describe().show()"
      ],
      "metadata": {
        "colab": {
          "base_uri": "https://localhost:8080/"
        },
        "id": "mHigtKwS9WDw",
        "outputId": "58511e7a-9ca1-4a32-b6bc-9dca99ced1d4"
      },
      "execution_count": null,
      "outputs": [
        {
          "output_type": "stream",
          "name": "stdout",
          "text": [
            "+-------+------------------+------------------+------------------+\n",
            "|summary|    number_courses|        time_study|             Marks|\n",
            "+-------+------------------+------------------+------------------+\n",
            "|  count|               100|               100|               100|\n",
            "|   mean|              5.29|           4.07714|24.417689999999993|\n",
            "| stddev|1.7995229446391696|2.3729141442027726| 14.32619857075798|\n",
            "|    min|                 3|             0.096|             5.609|\n",
            "|    max|                 8|             7.957|            55.299|\n",
            "+-------+------------------+------------------+------------------+\n",
            "\n"
          ]
        }
      ]
    },
    {
      "cell_type": "code",
      "source": [
        "df.columns"
      ],
      "metadata": {
        "colab": {
          "base_uri": "https://localhost:8080/"
        },
        "id": "3UhGyU7m9b5-",
        "outputId": "3759fc80-2324-486f-efb5-57af9803b614"
      },
      "execution_count": null,
      "outputs": [
        {
          "output_type": "execute_result",
          "data": {
            "text/plain": [
              "['number_courses', 'time_study', 'Marks']"
            ]
          },
          "metadata": {},
          "execution_count": 21
        }
      ]
    },
    {
      "cell_type": "code",
      "source": [
        "from pyspark.ml.feature import VectorAssembler"
      ],
      "metadata": {
        "id": "EnkQSwh99e89"
      },
      "execution_count": null,
      "outputs": []
    },
    {
      "cell_type": "code",
      "source": [
        "assembler = VectorAssembler(inputCols=[\n",
        "                                       'number_courses', 'time_study'\n",
        " ],\n",
        " outputCol='input')"
      ],
      "metadata": {
        "id": "FeICNDuP9gn0"
      },
      "execution_count": null,
      "outputs": []
    },
    {
      "cell_type": "code",
      "source": [
        "output = assembler.transform(df)"
      ],
      "metadata": {
        "id": "Tll1wk1f-EnC"
      },
      "execution_count": null,
      "outputs": []
    },
    {
      "cell_type": "code",
      "source": [
        "df_final = output.select('input', 'Marks')"
      ],
      "metadata": {
        "id": "fRvzwx6T-I03"
      },
      "execution_count": null,
      "outputs": []
    },
    {
      "cell_type": "code",
      "source": [
        "df_final.show(50)"
      ],
      "metadata": {
        "colab": {
          "base_uri": "https://localhost:8080/"
        },
        "id": "h5tTqozL-O3k",
        "outputId": "d00ca84d-df82-4ff5-fb08-05a6dc7c521e"
      },
      "execution_count": null,
      "outputs": [
        {
          "output_type": "stream",
          "name": "stdout",
          "text": [
            "+-----------+------+\n",
            "|      input| Marks|\n",
            "+-----------+------+\n",
            "|[3.0,4.508]|19.202|\n",
            "|[4.0,0.096]| 7.734|\n",
            "|[4.0,3.133]|13.811|\n",
            "|[6.0,7.909]|53.018|\n",
            "|[8.0,7.811]|55.299|\n",
            "|[6.0,3.211]|17.822|\n",
            "|[3.0,6.063]|29.889|\n",
            "|[5.0,3.413]|17.264|\n",
            "| [4.0,4.41]|20.348|\n",
            "|[3.0,6.173]|30.862|\n",
            "|[3.0,7.353]|42.036|\n",
            "|[7.0,0.423]|12.132|\n",
            "|[7.0,4.218]|24.318|\n",
            "|[3.0,4.274]|17.672|\n",
            "|[3.0,2.908]|11.397|\n",
            "| [4.0,4.26]|19.466|\n",
            "|[5.0,5.719]|30.548|\n",
            "| [8.0,6.08]| 38.49|\n",
            "|[6.0,7.711]|50.986|\n",
            "|[8.0,3.977]|25.133|\n",
            "|[4.0,4.733]|22.073|\n",
            "|[6.0,6.126]|35.939|\n",
            "|[5.0,2.051]|12.209|\n",
            "|[7.0,4.875]|28.043|\n",
            "|[4.0,3.635]|16.517|\n",
            "|[3.0,1.407]| 6.623|\n",
            "|[7.0,0.508]|12.647|\n",
            "|[8.0,4.378]|26.532|\n",
            "|[5.0,0.156]| 9.333|\n",
            "|[4.0,1.299]| 8.837|\n",
            "|[8.0,3.864]|24.172|\n",
            "|[3.0,1.923]|   8.1|\n",
            "|[8.0,0.932]|15.038|\n",
            "|[6.0,6.594]|39.965|\n",
            "|[3.0,4.083]|17.171|\n",
            "|[3.0,7.543]|43.978|\n",
            "|[4.0,2.966]|13.119|\n",
            "|[6.0,7.283]|46.453|\n",
            "|[7.0,6.533]|41.358|\n",
            "|[6.0,7.775]|51.142|\n",
            "| [4.0,0.14]| 7.336|\n",
            "|[6.0,2.754]|15.725|\n",
            "|[6.0,3.591]|19.771|\n",
            "|[5.0,1.557]|10.429|\n",
            "|[4.0,1.954]| 9.742|\n",
            "|[3.0,2.061]| 8.924|\n",
            "|[4.0,3.797]|16.703|\n",
            "|[4.0,4.779]|22.701|\n",
            "|[3.0,5.635]|26.882|\n",
            "|[5.0,3.913]|19.106|\n",
            "+-----------+------+\n",
            "only showing top 50 rows\n",
            "\n"
          ]
        }
      ]
    },
    {
      "cell_type": "code",
      "source": [
        "train, test = df_final.randomSplit([0.7, 0.3], seed=42)"
      ],
      "metadata": {
        "id": "ObDXn1Gy_tcq"
      },
      "execution_count": null,
      "outputs": []
    },
    {
      "cell_type": "code",
      "source": [
        "from pyspark.ml.regression import LinearRegression"
      ],
      "metadata": {
        "id": "ql1nv8NH_trH"
      },
      "execution_count": null,
      "outputs": []
    },
    {
      "cell_type": "code",
      "source": [
        "lr = LinearRegression(featuresCol = 'input', labelCol='Marks', maxIter=10, regParam=0.3, elasticNetParam=0.8)"
      ],
      "metadata": {
        "id": "CFYEjfCE_uzf"
      },
      "execution_count": null,
      "outputs": []
    },
    {
      "cell_type": "code",
      "source": [
        "lr_model = lr.fit(df_final)"
      ],
      "metadata": {
        "id": "WC3yXXo5_vZh"
      },
      "execution_count": null,
      "outputs": []
    },
    {
      "cell_type": "code",
      "source": [
        "lr_model.summary"
      ],
      "metadata": {
        "colab": {
          "base_uri": "https://localhost:8080/"
        },
        "id": "x183c42_AYTK",
        "outputId": "b3195101-cfb1-430a-dbe2-7ee3cb336942"
      },
      "execution_count": null,
      "outputs": [
        {
          "output_type": "execute_result",
          "data": {
            "text/plain": [
              "<pyspark.ml.regression.LinearRegressionTrainingSummary at 0x7fca4ad98a90>"
            ]
          },
          "metadata": {},
          "execution_count": 37
        }
      ]
    },
    {
      "cell_type": "code",
      "source": [
        "lr_model_summary = lr_model.summary"
      ],
      "metadata": {
        "id": "crbYYH-S_vqo"
      },
      "execution_count": null,
      "outputs": []
    },
    {
      "cell_type": "code",
      "source": [
        "lr_model_summary.predictions.show()"
      ],
      "metadata": {
        "colab": {
          "base_uri": "https://localhost:8080/"
        },
        "id": "uCdTUQlvA_6f",
        "outputId": "88911bf9-4f77-491c-dc1b-d689a405b4ad"
      },
      "execution_count": null,
      "outputs": [
        {
          "output_type": "stream",
          "name": "stdout",
          "text": [
            "+-----------+------+------------------+\n",
            "|      input| Marks|        prediction|\n",
            "+-----------+------+------------------+\n",
            "|[3.0,4.508]|19.202|22.687451473442746|\n",
            "|[4.0,0.096]| 7.734| 1.087218195817793|\n",
            "|[4.0,3.133]|13.811|  17.1613040989186|\n",
            "|[6.0,7.909]|53.018| 45.94225614168351|\n",
            "|[8.0,7.811]|55.299| 48.92633801924811|\n",
            "|[6.0,3.211]|17.822| 21.07691021716339|\n",
            "|[3.0,6.063]|29.889|30.917679849906936|\n",
            "|[5.0,3.413]|17.264|20.394660237608758|\n",
            "| [4.0,4.41]|20.348|23.920147595217493|\n",
            "|[3.0,6.173]|30.862| 31.49988250033206|\n",
            "|[3.0,7.353]|42.036|37.745329113983345|\n",
            "|[7.0,0.423]|12.132|  8.07210516036021|\n",
            "|[7.0,4.218]|24.318| 28.15809660002684|\n",
            "|[3.0,4.274]|17.672| 21.44894765344749|\n",
            "|[3.0,2.908]|11.397|14.219049285441002|\n",
            "| [4.0,4.26]|19.466|23.126234890092327|\n",
            "|[5.0,5.719]|30.548| 32.59974489106627|\n",
            "| [8.0,6.08]| 38.49| 39.76458540210373|\n",
            "|[6.0,7.711]|50.986|44.894291370918296|\n",
            "|[8.0,3.977]|25.133| 28.63392927624893|\n",
            "+-----------+------+------------------+\n",
            "only showing top 20 rows\n",
            "\n"
          ]
        },
        {
          "output_type": "stream",
          "name": "stderr",
          "text": [
            "/usr/local/lib/python3.7/dist-packages/pyspark/sql/context.py:127: FutureWarning: Deprecated in 3.0.0. Use SparkSession.builder.getOrCreate() instead.\n",
            "  FutureWarning\n"
          ]
        }
      ]
    },
    {
      "cell_type": "code",
      "source": [
        "lr_model_summary.predictions.describe().show()"
      ],
      "metadata": {
        "colab": {
          "base_uri": "https://localhost:8080/"
        },
        "id": "NT1G0G2BBDEv",
        "outputId": "d539f72b-3ca4-4051-8cea-d13f5fcc56d5"
      },
      "execution_count": null,
      "outputs": [
        {
          "output_type": "stream",
          "name": "stderr",
          "text": [
            "/usr/local/lib/python3.7/dist-packages/pyspark/sql/context.py:127: FutureWarning: Deprecated in 3.0.0. Use SparkSession.builder.getOrCreate() instead.\n",
            "  FutureWarning\n"
          ]
        },
        {
          "output_type": "stream",
          "name": "stdout",
          "text": [
            "+-------+------------------+------------------+\n",
            "|summary|             Marks|        prediction|\n",
            "+-------+------------------+------------------+\n",
            "|  count|               100|               100|\n",
            "|   mean|24.417689999999993|24.417689999999983|\n",
            "| stddev| 14.32619857075798| 13.56038430188823|\n",
            "|    min|             5.609|0.4208464703656638|\n",
            "|    max|            55.299| 48.92633801924811|\n",
            "+-------+------------------+------------------+\n",
            "\n"
          ]
        }
      ]
    },
    {
      "cell_type": "code",
      "source": [
        "lr_predictions = lr_model.transform(test)\n",
        "lr_predictions.select(\"prediction\",\"Marks\",\"input\").show(5)\n",
        "from pyspark.ml.evaluation import RegressionEvaluator\n",
        "lr_evaluator = RegressionEvaluator(predictionCol=\"prediction\", \\\n",
        "                 labelCol=\"Marks\",metricName=\"r2\")\n",
        "print(\"R Squared (R2) on test data = %g\" % lr_evaluator.evaluate(lr_predictions))"
      ],
      "metadata": {
        "colab": {
          "base_uri": "https://localhost:8080/"
        },
        "id": "-1f6OYWTCipb",
        "outputId": "c36c5079-edf2-4315-cff7-a391a0aba8ef"
      },
      "execution_count": null,
      "outputs": [
        {
          "output_type": "stream",
          "name": "stdout",
          "text": [
            "+------------------+------+-----------+\n",
            "|        prediction| Marks|      input|\n",
            "+------------------+------+-----------+\n",
            "|3.0778076568512107| 6.217|[3.0,0.803]|\n",
            "|  7.44962028640711| 7.014|[3.0,1.629]|\n",
            "| 9.736088877167578| 8.924|[3.0,2.061]|\n",
            "|14.219049285441002|11.397|[3.0,2.908]|\n",
            "| 23.34904539438038|20.398|[3.0,4.633]|\n",
            "+------------------+------+-----------+\n",
            "only showing top 5 rows\n",
            "\n",
            "R Squared (R2) on test data = 0.922052\n"
          ]
        }
      ]
    }
  ]
}